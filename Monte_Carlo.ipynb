{
 "cells": [
  {
   "cell_type": "code",
   "execution_count": 1,
   "id": "59b2d5d6",
   "metadata": {},
   "outputs": [],
   "source": [
    "import numpy as np\n",
    "from scipy.stats import *"
   ]
  },
  {
   "cell_type": "code",
   "execution_count": 6,
   "id": "345242de",
   "metadata": {},
   "outputs": [
    {
     "data": {
      "text/plain": [
       "0.0539"
      ]
     },
     "execution_count": 6,
     "metadata": {},
     "output_type": "execute_result"
    }
   ],
   "source": [
    "np.random.seed(42)\n",
    "N = 10000\n",
    "bad_cnt = 0\n",
    "alpha = 0.05\n",
    "\n",
    "sample_dist = norm(loc=2, scale=3)\n",
    "mu0 = sample_dist.expect()\n",
    "for i in range(N):\n",
    "    test = sample_dist.rvs(10)\n",
    "    control = sample_dist.rvs(10)\n",
    "    \n",
    "    p_value = ttest_ind(test, control, alternative='two-sided').pvalue\n",
    "    bad_cnt += (p_value < alpha)\n",
    "bad_cnt / N"
   ]
  },
  {
   "cell_type": "markdown",
   "id": "cb54dc8b",
   "metadata": {},
   "source": [
    "Мы берем 10000 экспериментов, для каждого прогоняем выборку тест и контрол из 10 элементов, которые распределены нормально и принадлежат нормальному распределению (Т-тест). Получилось больше 5%. Правда ли что критерий некорректен? Посчитаем доверительный интервал Вилсона"
   ]
  },
  {
   "cell_type": "code",
   "execution_count": 22,
   "id": "bae422b0",
   "metadata": {},
   "outputs": [
    {
     "data": {
      "text/plain": [
       "(0.04964284138359744, 0.05849976196272022)"
      ]
     },
     "execution_count": 22,
     "metadata": {},
     "output_type": "execute_result"
    }
   ],
   "source": [
    "from statsmodels.stats.proportion import proportion_confint\n",
    "proportion_confint(count=bad_cnt, nobs=N, alpha=0.05, method='wilson')"
   ]
  },
  {
   "cell_type": "markdown",
   "id": "9ccd3b81",
   "metadata": {},
   "source": [
    "Значит истинный FPR лежит в интервале выше. И наче значение лежит в этом интервале)"
   ]
  },
  {
   "cell_type": "markdown",
   "id": "c06ed09e",
   "metadata": {},
   "source": [
    "Теперь заменим нормальное распределение на экспоненциальное и посмотрим как работает Т-тест для маленьких ненормальных выборок:"
   ]
  },
  {
   "cell_type": "code",
   "execution_count": 24,
   "id": "c8ba6385",
   "metadata": {},
   "outputs": [
    {
     "data": {
      "text/plain": [
       "0.0433"
      ]
     },
     "execution_count": 24,
     "metadata": {},
     "output_type": "execute_result"
    }
   ],
   "source": [
    "np.random.seed(42)\n",
    "N = 10000\n",
    "bad_cnt = 0\n",
    "alpha = 0.05\n",
    "\n",
    "sample_dist = expon(scale=10)\n",
    "mu0 = sample_dist.expect()\n",
    "for i in range(N):\n",
    "    test = sample_dist.rvs(10)\n",
    "    control = sample_dist.rvs(10)\n",
    "    \n",
    "    p_value = ttest_ind(test, control, alternative='two-sided').pvalue\n",
    "    bad_cnt += (p_value < alpha)\n",
    "bad_cnt / N"
   ]
  },
  {
   "cell_type": "code",
   "execution_count": 25,
   "id": "2f93f14a",
   "metadata": {},
   "outputs": [
    {
     "data": {
      "text/plain": [
       "(0.03948313833238368, 0.04746760577939231)"
      ]
     },
     "execution_count": 25,
     "metadata": {},
     "output_type": "execute_result"
    }
   ],
   "source": [
    "from statsmodels.stats.proportion import proportion_confint\n",
    "proportion_confint(count=bad_cnt, nobs=N, alpha=0.05, method='wilson')"
   ]
  },
  {
   "cell_type": "markdown",
   "id": "e5155362",
   "metadata": {},
   "source": [
    "Ну и этот критерий не является подходящим, но при этом критерий допускает ошибку реже чем альфа, но это не очень хорошо, потому что мы хотим использовать альфу как что-то конкретное. Это значит что мощность этого алгоритма так себе. Так же напишем функцию для определения, подходит ли нам Т-тест для решения задачи. На вход будет принимать 2 выборки из двух экспоненциальных распределений (одна со сдвигом 5, и сигмой 5, другая с сигмой 5). На выходе будет доверительный интервал"
   ]
  },
  {
   "cell_type": "code",
   "execution_count": 30,
   "id": "0fe6018a",
   "metadata": {},
   "outputs": [],
   "source": [
    "test_dist = expon(scale=10)\n",
    "control_dist = expon(loc=5, scale=5)\n",
    "sample_size = 10"
   ]
  },
  {
   "cell_type": "code",
   "execution_count": 46,
   "id": "ff196067",
   "metadata": {},
   "outputs": [],
   "source": [
    "def check_criterion(test_dist, control_dist, sample_size, N_exps=N, to_print=True):\n",
    "    np.random.seed(35)\n",
    "    bad_cnt = 0\n",
    "    alpha = 0.05\n",
    "    \n",
    "    for i in range(N_exps):\n",
    "        test = test_dist.rvs(sample_size)\n",
    "        control = control_dist.rvs(sample_size)\n",
    "        pvalue = ttest_ind(test, control, equal_var=False, alternative='two-sided').pvalue\n",
    "        bad_cnt += (pvalue < alpha)\n",
    "        \n",
    "    if to_print:\n",
    "        print(f'FPR: {round(bad_cnt / N_exps, 4)}')\n",
    "        print(f\"CI: {proportion_confint(count=bad_cnt, nobs=N_exps, alpha=0.05, method='wilson')}\")\n",
    "    else:\n",
    "        return proportion_confint(count=bad_cnt, nobs=N_exps, alpha=0.05, method='wilson')"
   ]
  },
  {
   "cell_type": "code",
   "execution_count": 47,
   "id": "01d24d41",
   "metadata": {},
   "outputs": [
    {
     "name": "stdout",
     "output_type": "stream",
     "text": [
      "FPR: 0.0689\n",
      "CI: (0.0640994596515586, 0.07403162374363877)\n"
     ]
    }
   ],
   "source": [
    "check_criterion(test_dist=test_dist, control_dist=control_dist, sample_size=10)"
   ]
  },
  {
   "cell_type": "markdown",
   "id": "4cd24cdc",
   "metadata": {},
   "source": [
    "Далее найдем чем отличается большая выборка от маленькой"
   ]
  },
  {
   "cell_type": "code",
   "execution_count": 52,
   "id": "056ffcef",
   "metadata": {},
   "outputs": [
    {
     "name": "stdout",
     "output_type": "stream",
     "text": [
      "Sample size = 60\n"
     ]
    }
   ],
   "source": [
    "scale = np.arange(20, 110, 20)\n",
    "for N in scale:\n",
    "    left, right = check_criterion(test_dist=test_dist, control_dist=control_dist, sample_size=N, N_exps=10000, to_print=False)\n",
    "    if left < alpha < right:\n",
    "        print(f'Sample size = {N}')\n",
    "        break"
   ]
  },
  {
   "cell_type": "code",
   "execution_count": 51,
   "id": "6e94e56a",
   "metadata": {},
   "outputs": [
    {
     "name": "stdout",
     "output_type": "stream",
     "text": [
      "0.0491624202232057 0.057980567121482626\n"
     ]
    }
   ],
   "source": [
    "left, right = check_criterion(test_dist=test_dist, control_dist=control_dist, sample_size=N, N_exps=10000, to_print=False)\n",
    "print(left, right)"
   ]
  },
  {
   "cell_type": "markdown",
   "id": "b03eed83",
   "metadata": {},
   "source": [
    "Если подходят 2 критерия то берем тот у которого больше мощномть. Одна выборка пусть будет в 2 раза больше"
   ]
  },
  {
   "cell_type": "code",
   "execution_count": 54,
   "id": "4d2663e3",
   "metadata": {},
   "outputs": [
    {
     "data": {
      "text/plain": [
       "0.1938"
      ]
     },
     "execution_count": 54,
     "metadata": {},
     "output_type": "execute_result"
    }
   ],
   "source": [
    "np.random.seed(42)\n",
    "\n",
    "N = 10000\n",
    "rej_cnt = 0\n",
    "alpha = 0.05\n",
    "\n",
    "sample_dist = norm(loc=2, scale=3)\n",
    "mu = sample_dist.expect()\n",
    "\n",
    "for i in range(N):\n",
    "    test = sample_dist.rvs(15)\n",
    "    control = sample_dist.rvs(15) * 2\n",
    "    \n",
    "    pvalue = ttest_ind(test, control, equal_var=False, alternative='two-sided').pvalue\n",
    "    \n",
    "    rej_cnt += (pvalue < alpha)\n",
    "rej_cnt / N"
   ]
  },
  {
   "cell_type": "code",
   "execution_count": null,
   "id": "5876249e",
   "metadata": {},
   "outputs": [],
   "source": []
  }
 ],
 "metadata": {
  "kernelspec": {
   "display_name": "Python [conda env:base] *",
   "language": "python",
   "name": "conda-base-py"
  },
  "language_info": {
   "codemirror_mode": {
    "name": "ipython",
    "version": 3
   },
   "file_extension": ".py",
   "mimetype": "text/x-python",
   "name": "python",
   "nbconvert_exporter": "python",
   "pygments_lexer": "ipython3",
   "version": "3.12.7"
  }
 },
 "nbformat": 4,
 "nbformat_minor": 5
}
