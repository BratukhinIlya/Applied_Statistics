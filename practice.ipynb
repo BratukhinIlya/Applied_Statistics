{
 "cells": [
  {
   "cell_type": "markdown",
   "id": "e233c1cc-3aa7-4785-99a5-520bbae2e2ab",
   "metadata": {},
   "source": [
    "Попрактикуемся строить Z-критерий для биноминального распределения и получать p-value.\n",
    "Дана задача, где у нас есть 50 доставок. Н0 - 0.5, Н1  - > 0.5. Ну и пусть будет 27 успешных доставок (потом будем менять числа).\n",
    "Посчитаем p-value для биноминального и нормального распределения)"
   ]
  },
  {
   "cell_type": "code",
   "execution_count": 3,
   "id": "8907a403-8458-49bb-8193-71b55f5f1623",
   "metadata": {},
   "outputs": [],
   "source": [
    "from scipy.stats import binom\n",
    "from scipy.stats import norm"
   ]
  },
  {
   "cell_type": "code",
   "execution_count": 4,
   "id": "21d89000-b95f-4683-8247-5e209e2e5b1d",
   "metadata": {},
   "outputs": [],
   "source": [
    "def p_value_binom(n, mu, t):\n",
    "    binom_h0 = binom(n=n, p=mu)\n",
    "    return 1 - binom_h0.cdf(t-1)"
   ]
  },
  {
   "cell_type": "code",
   "execution_count": 7,
   "id": "28ca87d0-9628-4244-828e-b9afc3fcf384",
   "metadata": {},
   "outputs": [
    {
     "name": "stdout",
     "output_type": "stream",
     "text": [
      "p-value для биномиального распределения без использования норм. аппроксимации:0.3359055168826828\n"
     ]
    }
   ],
   "source": [
    "n = 50\n",
    "mu = 0.5\n",
    "t = 27\n",
    "print(f'p-value для биномиального распределения без использования норм. аппроксимации:{p_value_binom(n, mu, t)}')"
   ]
  },
  {
   "cell_type": "markdown",
   "id": "af873936-e19a-4acb-8d1f-610b0c146b7a",
   "metadata": {},
   "source": [
    "Хоть мы и получили неадекватное p-value найдем его с помощью нормальной аппроксимации: для этого вычислим дисперсию n * $\\mu$ * (1 - $\\mu$)"
   ]
  },
  {
   "cell_type": "code",
   "execution_count": 10,
   "id": "24ea17d0-0f25-400a-ab05-df4115de8e9b",
   "metadata": {},
   "outputs": [],
   "source": [
    "def p_value_by_norm_approx(n, mu, t):\n",
    "    sum_mu = n * mu\n",
    "    variance = n * mu * (1 - mu)\n",
    "    sigma = numpy.sqrt(variance)\n",
    "    return 1 - norm(loc=sum_mu, scale=sigma).cdf(t)"
   ]
  },
  {
   "cell_type": "code",
   "execution_count": 12,
   "id": "1115047b-bcb8-4b3b-95fc-31a1e4b5e9a6",
   "metadata": {},
   "outputs": [
    {
     "name": "stdout",
     "output_type": "stream",
     "text": [
      "p-value with normal approximation: 0.2858038224766658\n"
     ]
    }
   ],
   "source": [
    "import numpy\n",
    "print(f'p-value with normal approximation: {p_value_by_norm_approx(n, mu, t)}')"
   ]
  },
  {
   "cell_type": "markdown",
   "id": "4c9b41b8-6e58-46c5-aece-8277d523b478",
   "metadata": {},
   "source": [
    "Сделаем поправку на непрерывность, чтобы значения отличались на уровне погрешности:"
   ]
  },
  {
   "cell_type": "code",
   "execution_count": 15,
   "id": "667b4191-a7ed-4902-9a83-9bcec22099af",
   "metadata": {},
   "outputs": [
    {
     "name": "stdout",
     "output_type": "stream",
     "text": [
      "p-value with normal approximation and with continuity correction: 0.3356866202704363\n"
     ]
    }
   ],
   "source": [
    "def p_value_by_norm_approx_cc(n, mu, t):\n",
    "    sum_mu = n * mu\n",
    "    variance = n * mu * (1 - mu)\n",
    "    sigma = numpy.sqrt(variance)\n",
    "    return 1 - norm(loc=sum_mu, scale=sigma).cdf(t - 0.5)\n",
    "print(f'p-value with normal approximation and with continuity correction: {p_value_by_norm_approx_cc(n, mu, t)}')"
   ]
  },
  {
   "cell_type": "markdown",
   "id": "82643cdb-4ddf-4041-b8b7-ff85a710e869",
   "metadata": {},
   "source": [
    "Теперь проведем Z-test для поиска нашего истинного `p-value`"
   ]
  },
  {
   "cell_type": "code",
   "execution_count": 18,
   "id": "3b39a05a-892e-437f-8066-51d38fc9443f",
   "metadata": {},
   "outputs": [],
   "source": [
    "def p_value_z_test(sample_size, sample_mean, mu_0, variance):\n",
    "    z_statistics = numpy.sqrt(sample_size) * (sample_mean - mu_0) / numpy.sqrt(variance)\n",
    "    return 1 - norm().cdf(z_statistics)"
   ]
  },
  {
   "cell_type": "code",
   "execution_count": 20,
   "id": "5908ad7a-cd13-421d-97ff-dc2c0bf7bc1b",
   "metadata": {},
   "outputs": [
    {
     "data": {
      "text/plain": [
       "0.2858038224766656"
      ]
     },
     "execution_count": 20,
     "metadata": {},
     "output_type": "execute_result"
    }
   ],
   "source": [
    "variance = mu * (1 - mu)\n",
    "p_value_z_test(n, t/n, mu, variance)"
   ]
  },
  {
   "cell_type": "markdown",
   "id": "90092a24-a57f-46f2-9dd8-01312fc3974a",
   "metadata": {},
   "source": [
    "Мы получаем точно такое же значение, что и при применении нормальной аппроксимации. Критерий Фишера мы можем применять только тогда, когда нам известна дисперсия. Или мы можем ее точно посчитать. В других же случаях мы не можем его применять)\n"
   ]
  },
  {
   "cell_type": "markdown",
   "id": "38614ddb-1769-457e-9f55-25af16d1d884",
   "metadata": {},
   "source": [
    "Теперь посчитаем мощность и MDE нашего критерия, возьмем mu_factual = 0.63"
   ]
  },
  {
   "cell_type": "code",
   "execution_count": 37,
   "id": "f8e9ef2b-5a66-4f1f-bf65-e1a557ad26e2",
   "metadata": {},
   "outputs": [],
   "source": [
    "def get_stat_power(n, mu, mu_factual, alpha=0.05):\n",
    "    binom_h0 = binom(n=n, p=mu)\n",
    "    binom_fact = binom(n=n, p=mu_factual)\n",
    "    crit_val = binom_h0.ppf(1-alpha) + 1\n",
    "    return 1 - binom_fact.cdf(crit_val)"
   ]
  },
  {
   "cell_type": "code",
   "execution_count": 43,
   "id": "915d107f-a4f2-4cdd-b681-de487ed8212f",
   "metadata": {},
   "outputs": [
    {
     "data": {
      "text/plain": [
       "0.3894766386973454"
      ]
     },
     "execution_count": 43,
     "metadata": {},
     "output_type": "execute_result"
    }
   ],
   "source": [
    "n = 50\n",
    "mu = 0.5\n",
    "mu_factual = 0.63\n",
    "get_stat_power(n, mu, mu_factual)"
   ]
  },
  {
   "cell_type": "markdown",
   "id": "158599af-1325-4280-9022-f4056dbdf6b2",
   "metadata": {},
   "source": [
    "Видим, что мощность ниже 80%, поэтому можно посчитать, какое количество экспеиментов надо провести, чтобы для фактического mu этот критерий был мощным"
   ]
  },
  {
   "cell_type": "code",
   "execution_count": 46,
   "id": "7bd18ea1-7e1b-41c4-a9bd-71f898fbdb2a",
   "metadata": {},
   "outputs": [],
   "source": [
    "def power_min_n(n):\n",
    "    power = get_stat_power(n, mu=0.5, mu_factual=0.63)\n",
    "    while power <= 0.8:\n",
    "        n += 1\n",
    "        power = get_stat_power(n,mu=0.5, mu_factual=0.63)\n",
    "    return n"
   ]
  },
  {
   "cell_type": "code",
   "execution_count": 48,
   "id": "882e95e1-fd2f-4e97-b989-89333ee4f2e1",
   "metadata": {},
   "outputs": [
    {
     "data": {
      "text/plain": [
       "106"
      ]
     },
     "execution_count": 48,
     "metadata": {},
     "output_type": "execute_result"
    }
   ],
   "source": [
    "power_min_n(n)"
   ]
  },
  {
   "cell_type": "code",
   "execution_count": 50,
   "id": "1014d01d-0721-45e6-a4de-4d4da752a17d",
   "metadata": {},
   "outputs": [],
   "source": [
    "def MDE(n, mu0, alpha=0.05, min_power=0.8):\n",
    "    delta_grid = numpy.linspace(0, 1 - mu0, 200)\n",
    "    power = get_stat_power(n, mu0, mu0 + delta_grid)\n",
    "    delta = delta_grid[power >= 0.8]\n",
    "    return delta[0]"
   ]
  },
  {
   "cell_type": "code",
   "execution_count": 58,
   "id": "d1902ec5-cf8f-4a59-8e86-94ba4a2afa85",
   "metadata": {},
   "outputs": [
    {
     "data": {
      "text/plain": [
       "0.20603015075376885"
      ]
     },
     "execution_count": 58,
     "metadata": {},
     "output_type": "execute_result"
    }
   ],
   "source": [
    "MDE(n=50, mu0=0.5)"
   ]
  },
  {
   "cell_type": "code",
   "execution_count": null,
   "id": "4388480a-6ea0-4f5a-92d0-98fce6b5bca4",
   "metadata": {},
   "outputs": [],
   "source": []
  }
 ],
 "metadata": {
  "kernelspec": {
   "display_name": "Python [conda env:base] *",
   "language": "python",
   "name": "conda-base-py"
  },
  "language_info": {
   "codemirror_mode": {
    "name": "ipython",
    "version": 3
   },
   "file_extension": ".py",
   "mimetype": "text/x-python",
   "name": "python",
   "nbconvert_exporter": "python",
   "pygments_lexer": "ipython3",
   "version": "3.12.7"
  }
 },
 "nbformat": 4,
 "nbformat_minor": 5
}
